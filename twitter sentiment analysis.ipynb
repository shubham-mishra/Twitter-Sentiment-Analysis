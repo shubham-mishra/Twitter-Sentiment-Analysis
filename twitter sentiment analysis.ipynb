{
 "cells": [
  {
   "cell_type": "code",
   "execution_count": 1,
   "metadata": {
    "_cell_guid": "b1076dfc-b9ad-4769-8c92-a6c4dae69d19",
    "_uuid": "8f2839f25d086af736a60e9eeb907d3b93b6e0e5"
   },
   "outputs": [
    {
     "name": "stdout",
     "output_type": "stream",
     "text": [
      "['train.csv', 'test.csv']\n"
     ]
    }
   ],
   "source": [
    "\n",
    "import numpy as np # linear algebra\n",
    "import pandas as pd # data processing, CSV file I/O (e.g. pd.read_csv)\n",
    "import re;\n",
    "import nltk;\n",
    "from nltk.corpus import stopwords;\n",
    "import bs4;\n",
    "import sklearn.model_selection\n",
    "\n",
    "import os\n",
    "print(os.listdir(\"../input\"))\n",
    "\n",
    "# Any results you write to the current directory are saved as output."
   ]
  },
  {
   "cell_type": "code",
   "execution_count": 2,
   "metadata": {
    "_cell_guid": "79c7e3d0-c299-4dcb-8224-4455121ee9b0",
    "_uuid": "d629ff2d2480ee46fbb7e2d37f6b5fab8052498a"
   },
   "outputs": [],
   "source": [
    "train = pd.read_csv('../input/train.csv')"
   ]
  },
  {
   "cell_type": "code",
   "execution_count": 3,
   "metadata": {},
   "outputs": [
    {
     "data": {
      "text/html": [
       "<div>\n",
       "<style scoped>\n",
       "    .dataframe tbody tr th:only-of-type {\n",
       "        vertical-align: middle;\n",
       "    }\n",
       "\n",
       "    .dataframe tbody tr th {\n",
       "        vertical-align: top;\n",
       "    }\n",
       "\n",
       "    .dataframe thead th {\n",
       "        text-align: right;\n",
       "    }\n",
       "</style>\n",
       "<table border=\"1\" class=\"dataframe\">\n",
       "  <thead>\n",
       "    <tr style=\"text-align: right;\">\n",
       "      <th></th>\n",
       "      <th>id</th>\n",
       "      <th>label</th>\n",
       "      <th>tweet</th>\n",
       "    </tr>\n",
       "  </thead>\n",
       "  <tbody>\n",
       "    <tr>\n",
       "      <th>0</th>\n",
       "      <td>1</td>\n",
       "      <td>0</td>\n",
       "      <td>@user when a father is dysfunctional and is s...</td>\n",
       "    </tr>\n",
       "    <tr>\n",
       "      <th>1</th>\n",
       "      <td>2</td>\n",
       "      <td>0</td>\n",
       "      <td>@user @user thanks for #lyft credit i can't us...</td>\n",
       "    </tr>\n",
       "    <tr>\n",
       "      <th>2</th>\n",
       "      <td>3</td>\n",
       "      <td>0</td>\n",
       "      <td>bihday your majesty</td>\n",
       "    </tr>\n",
       "    <tr>\n",
       "      <th>3</th>\n",
       "      <td>4</td>\n",
       "      <td>0</td>\n",
       "      <td>#model   i love u take with u all the time in ...</td>\n",
       "    </tr>\n",
       "    <tr>\n",
       "      <th>4</th>\n",
       "      <td>5</td>\n",
       "      <td>0</td>\n",
       "      <td>factsguide: society now    #motivation</td>\n",
       "    </tr>\n",
       "  </tbody>\n",
       "</table>\n",
       "</div>"
      ],
      "text/plain": [
       "   id  label                                              tweet\n",
       "0   1      0   @user when a father is dysfunctional and is s...\n",
       "1   2      0  @user @user thanks for #lyft credit i can't us...\n",
       "2   3      0                                bihday your majesty\n",
       "3   4      0  #model   i love u take with u all the time in ...\n",
       "4   5      0             factsguide: society now    #motivation"
      ]
     },
     "execution_count": 3,
     "metadata": {},
     "output_type": "execute_result"
    }
   ],
   "source": [
    "train.head()"
   ]
  },
  {
   "cell_type": "code",
   "execution_count": 4,
   "metadata": {},
   "outputs": [
    {
     "name": "stdout",
     "output_type": "stream",
     "text": [
      "Number of racist and sexist tweets: 2242\n",
      "Number of not racist and sexist tweets: 29720\n",
      "There are 7.014579813528565% racist and sexist tweet\n"
     ]
    }
   ],
   "source": [
    "label_info = train['label'].value_counts()\n",
    "print('Number of racist and sexist tweets: {}'.format(label_info[1]))\n",
    "print('Number of not racist and sexist tweets: {}'.format(label_info[0]));\n",
    "\n",
    "print('There are {}% racist and sexist tweet'.format(label_info[1] / train.shape[0] * 100));"
   ]
  },
  {
   "cell_type": "markdown",
   "metadata": {},
   "source": [
    "- tweet columns contains tweets by users\n",
    "- Most of the tweet has @user in them, which defines tweeter user handles, so i'll remove them as it's won't give any sentiment information.\n",
    "- Things to remove:\n",
    "    * special characters\n",
    "    * words with numbers\n",
    "    * numbers\n",
    "    * @user word\n",
    "   "
   ]
  },
  {
   "cell_type": "code",
   "execution_count": 5,
   "metadata": {},
   "outputs": [],
   "source": [
    "def decontraction(text):\n",
    "    patterns = [\n",
    "            ('won\\'t', 'will not'), ('\\'d', ' would'), ('\\'s', ' is'), ('can\\'t', 'can not'),\n",
    "            ('don\\'t', 'do not'), ('\\'ll', ' will'), ('\\'ve', ' have'), ('\\'t', ' not'),\n",
    "            ('\\'re', ' are'), ('\\'m', ' am')\n",
    "    ];\n",
    "    \n",
    "    for (pattern, replacer) in patterns:\n",
    "        regex = re.compile(pattern);\n",
    "        text = regex.sub(replacer, text);\n",
    "    return text;"
   ]
  },
  {
   "cell_type": "code",
   "execution_count": 6,
   "metadata": {},
   "outputs": [],
   "source": [
    "STOP_WORDS = stopwords.words('english');\n",
    "STOP_WORDS.remove('not');\n"
   ]
  },
  {
   "cell_type": "code",
   "execution_count": 7,
   "metadata": {},
   "outputs": [],
   "source": [
    "from nltk.stem.porter import PorterStemmer;\n",
    "\n",
    "def process_text(text):\n",
    "    \n",
    "    #performing decontraction\n",
    "    text = decontraction(text);\n",
    "    \n",
    "    #removing html tags\n",
    "    if type(text) == type(''):\n",
    "        bs = bs4.BeautifulSoup(text) #removing html tags\n",
    "        text = bs.get_text()\n",
    "        \n",
    "    #removing @user\n",
    "    text = text.replace('@user', ' ');\n",
    "    \n",
    "    #removing special characters except # as in tweeter it contains trends specific word along with #\n",
    "    text = re.sub('[^A-Za-z#]', ' ', text);\n",
    "    \n",
    "    #removing words with numbers\n",
    "    text = re.sub('\\S*\\d\\S*', ' ', text);\n",
    "    \n",
    "    #removing stop words except not, because not helps in finding negative sentiments\n",
    "    text = ' '.join([word for word in text.split(' ') if word.lower() not in STOP_WORDS])\n",
    "    \n",
    "    #removing words having lenght <=2\n",
    "    text = ' '.join([word for word in text.split(' ') if len(word) > 2])\n",
    "    \n",
    "    #converting whole text into lower case\n",
    "    text = text.lower().strip();\n",
    "    \n",
    "    #stemming words\n",
    "    stemmer = PorterStemmer();\n",
    "    text = ' '.join([stemmer.stem(word) for word in text.split(' ')])\n",
    "    \n",
    "    return text;"
   ]
  },
  {
   "cell_type": "code",
   "execution_count": 8,
   "metadata": {},
   "outputs": [
    {
     "data": {
      "text/html": [
       "<div>\n",
       "<style scoped>\n",
       "    .dataframe tbody tr th:only-of-type {\n",
       "        vertical-align: middle;\n",
       "    }\n",
       "\n",
       "    .dataframe tbody tr th {\n",
       "        vertical-align: top;\n",
       "    }\n",
       "\n",
       "    .dataframe thead th {\n",
       "        text-align: right;\n",
       "    }\n",
       "</style>\n",
       "<table border=\"1\" class=\"dataframe\">\n",
       "  <thead>\n",
       "    <tr style=\"text-align: right;\">\n",
       "      <th></th>\n",
       "      <th>id</th>\n",
       "      <th>label</th>\n",
       "      <th>tweet</th>\n",
       "      <th>clean_tweet</th>\n",
       "    </tr>\n",
       "  </thead>\n",
       "  <tbody>\n",
       "    <tr>\n",
       "      <th>0</th>\n",
       "      <td>1</td>\n",
       "      <td>0</td>\n",
       "      <td>@user when a father is dysfunctional and is s...</td>\n",
       "      <td>father dysfunct selfish drag kid dysfunct #run</td>\n",
       "    </tr>\n",
       "    <tr>\n",
       "      <th>1</th>\n",
       "      <td>2</td>\n",
       "      <td>0</td>\n",
       "      <td>@user @user thanks for #lyft credit i can't us...</td>\n",
       "      <td>thank #lyft credit not use caus not offer whee...</td>\n",
       "    </tr>\n",
       "    <tr>\n",
       "      <th>2</th>\n",
       "      <td>3</td>\n",
       "      <td>0</td>\n",
       "      <td>bihday your majesty</td>\n",
       "      <td>bihday majesti</td>\n",
       "    </tr>\n",
       "    <tr>\n",
       "      <th>3</th>\n",
       "      <td>4</td>\n",
       "      <td>0</td>\n",
       "      <td>#model   i love u take with u all the time in ...</td>\n",
       "      <td>#model love take time</td>\n",
       "    </tr>\n",
       "    <tr>\n",
       "      <th>4</th>\n",
       "      <td>5</td>\n",
       "      <td>0</td>\n",
       "      <td>factsguide: society now    #motivation</td>\n",
       "      <td>factsguid societi #motiv</td>\n",
       "    </tr>\n",
       "  </tbody>\n",
       "</table>\n",
       "</div>"
      ],
      "text/plain": [
       "   id  label                                              tweet  \\\n",
       "0   1      0   @user when a father is dysfunctional and is s...   \n",
       "1   2      0  @user @user thanks for #lyft credit i can't us...   \n",
       "2   3      0                                bihday your majesty   \n",
       "3   4      0  #model   i love u take with u all the time in ...   \n",
       "4   5      0             factsguide: society now    #motivation   \n",
       "\n",
       "                                         clean_tweet  \n",
       "0     father dysfunct selfish drag kid dysfunct #run  \n",
       "1  thank #lyft credit not use caus not offer whee...  \n",
       "2                                     bihday majesti  \n",
       "3                              #model love take time  \n",
       "4                           factsguid societi #motiv  "
      ]
     },
     "execution_count": 8,
     "metadata": {},
     "output_type": "execute_result"
    }
   ],
   "source": [
    "train['clean_tweet'] = train['tweet'].fillna('').apply(process_text)\n",
    "train.head()"
   ]
  },
  {
   "cell_type": "markdown",
   "metadata": {},
   "source": [
    "**UPSAMPLING to balance train data**"
   ]
  },
  {
   "cell_type": "code",
   "execution_count": 9,
   "metadata": {},
   "outputs": [
    {
     "name": "stdout",
     "output_type": "stream",
     "text": [
      "majority data size:  (29720, 4)\n",
      "minority data size:  (2242, 4)\n",
      "upsampled data size:  (29720, 4)\n",
      "new upsampled data:  (59440, 4)\n"
     ]
    }
   ],
   "source": [
    "#https://elitedatascience.com/imbalanced-classes\n",
    "\n",
    "from sklearn.utils import resample;\n",
    "\n",
    "train_majority = train[train['label'] == 0];\n",
    "print('majority data size: ', train_majority.shape);\n",
    "\n",
    "train_minority = train[train['label'] == 1];\n",
    "print('minority data size: ', train_minority.shape);\n",
    "\n",
    "minority_upsampled = resample(train_minority, replace=True, n_samples=29720, random_state=1)\n",
    "print('upsampled data size: ', minority_upsampled.shape)\n",
    "\n",
    "#concating majority and upsampled minority data\n",
    "train_upsampled = pd.concat([train_majority, minority_upsampled]);\n",
    "print('new upsampled data: ', train_upsampled.shape)"
   ]
  },
  {
   "cell_type": "code",
   "execution_count": 10,
   "metadata": {},
   "outputs": [
    {
     "name": "stderr",
     "output_type": "stream",
     "text": [
      "/opt/conda/lib/python3.6/site-packages/nltk/twitter/__init__.py:20: UserWarning: The twython library has not been installed. Some functionality from the twitter package will not be available.\n",
      "  warnings.warn(\"The twython library has not been installed. \"\n"
     ]
    },
    {
     "data": {
      "text/html": [
       "<div>\n",
       "<style scoped>\n",
       "    .dataframe tbody tr th:only-of-type {\n",
       "        vertical-align: middle;\n",
       "    }\n",
       "\n",
       "    .dataframe tbody tr th {\n",
       "        vertical-align: top;\n",
       "    }\n",
       "\n",
       "    .dataframe thead th {\n",
       "        text-align: right;\n",
       "    }\n",
       "</style>\n",
       "<table border=\"1\" class=\"dataframe\">\n",
       "  <thead>\n",
       "    <tr style=\"text-align: right;\">\n",
       "      <th></th>\n",
       "      <th>id</th>\n",
       "      <th>label</th>\n",
       "      <th>tweet</th>\n",
       "      <th>clean_tweet</th>\n",
       "      <th>polarity_score</th>\n",
       "    </tr>\n",
       "  </thead>\n",
       "  <tbody>\n",
       "    <tr>\n",
       "      <th>0</th>\n",
       "      <td>1</td>\n",
       "      <td>0</td>\n",
       "      <td>@user when a father is dysfunctional and is s...</td>\n",
       "      <td>father dysfunct selfish drag kid dysfunct #run</td>\n",
       "      <td>-0.6124</td>\n",
       "    </tr>\n",
       "    <tr>\n",
       "      <th>1</th>\n",
       "      <td>2</td>\n",
       "      <td>0</td>\n",
       "      <td>@user @user thanks for #lyft credit i can't us...</td>\n",
       "      <td>thank #lyft credit not use caus not offer whee...</td>\n",
       "      <td>0.6249</td>\n",
       "    </tr>\n",
       "    <tr>\n",
       "      <th>2</th>\n",
       "      <td>3</td>\n",
       "      <td>0</td>\n",
       "      <td>bihday your majesty</td>\n",
       "      <td>bihday majesti</td>\n",
       "      <td>0.0000</td>\n",
       "    </tr>\n",
       "    <tr>\n",
       "      <th>3</th>\n",
       "      <td>4</td>\n",
       "      <td>0</td>\n",
       "      <td>#model   i love u take with u all the time in ...</td>\n",
       "      <td>#model love take time</td>\n",
       "      <td>0.6369</td>\n",
       "    </tr>\n",
       "    <tr>\n",
       "      <th>4</th>\n",
       "      <td>5</td>\n",
       "      <td>0</td>\n",
       "      <td>factsguide: society now    #motivation</td>\n",
       "      <td>factsguid societi #motiv</td>\n",
       "      <td>0.0000</td>\n",
       "    </tr>\n",
       "  </tbody>\n",
       "</table>\n",
       "</div>"
      ],
      "text/plain": [
       "   id  label                                              tweet  \\\n",
       "0   1      0   @user when a father is dysfunctional and is s...   \n",
       "1   2      0  @user @user thanks for #lyft credit i can't us...   \n",
       "2   3      0                                bihday your majesty   \n",
       "3   4      0  #model   i love u take with u all the time in ...   \n",
       "4   5      0             factsguide: society now    #motivation   \n",
       "\n",
       "                                         clean_tweet  polarity_score  \n",
       "0     father dysfunct selfish drag kid dysfunct #run         -0.6124  \n",
       "1  thank #lyft credit not use caus not offer whee...          0.6249  \n",
       "2                                     bihday majesti          0.0000  \n",
       "3                              #model love take time          0.6369  \n",
       "4                           factsguid societi #motiv          0.0000  "
      ]
     },
     "execution_count": 10,
     "metadata": {},
     "output_type": "execute_result"
    }
   ],
   "source": [
    "from nltk.sentiment.vader import SentimentIntensityAnalyzer\n",
    "\n",
    "sentimentAnalyzer = SentimentIntensityAnalyzer();\n",
    "train_upsampled['polarity_score'] = train_upsampled['clean_tweet'].apply(lambda tweet: sentimentAnalyzer.polarity_scores(tweet)['compound']);\n",
    "\n",
    "train_upsampled.head()"
   ]
  },
  {
   "cell_type": "markdown",
   "metadata": {},
   "source": [
    "**Splitting data into train, test and cv**"
   ]
  },
  {
   "cell_type": "code",
   "execution_count": 11,
   "metadata": {},
   "outputs": [
    {
     "data": {
      "text/html": [
       "<div>\n",
       "<style scoped>\n",
       "    .dataframe tbody tr th:only-of-type {\n",
       "        vertical-align: middle;\n",
       "    }\n",
       "\n",
       "    .dataframe tbody tr th {\n",
       "        vertical-align: top;\n",
       "    }\n",
       "\n",
       "    .dataframe thead th {\n",
       "        text-align: right;\n",
       "    }\n",
       "</style>\n",
       "<table border=\"1\" class=\"dataframe\">\n",
       "  <thead>\n",
       "    <tr style=\"text-align: right;\">\n",
       "      <th></th>\n",
       "      <th>id</th>\n",
       "      <th>label</th>\n",
       "      <th>clean_tweet</th>\n",
       "      <th>polarity_score</th>\n",
       "    </tr>\n",
       "  </thead>\n",
       "  <tbody>\n",
       "    <tr>\n",
       "      <th>0</th>\n",
       "      <td>1</td>\n",
       "      <td>0</td>\n",
       "      <td>father dysfunct selfish drag kid dysfunct #run</td>\n",
       "      <td>-0.6124</td>\n",
       "    </tr>\n",
       "    <tr>\n",
       "      <th>1</th>\n",
       "      <td>2</td>\n",
       "      <td>0</td>\n",
       "      <td>thank #lyft credit not use caus not offer whee...</td>\n",
       "      <td>0.6249</td>\n",
       "    </tr>\n",
       "    <tr>\n",
       "      <th>2</th>\n",
       "      <td>3</td>\n",
       "      <td>0</td>\n",
       "      <td>bihday majesti</td>\n",
       "      <td>0.0000</td>\n",
       "    </tr>\n",
       "    <tr>\n",
       "      <th>3</th>\n",
       "      <td>4</td>\n",
       "      <td>0</td>\n",
       "      <td>#model love take time</td>\n",
       "      <td>0.6369</td>\n",
       "    </tr>\n",
       "    <tr>\n",
       "      <th>4</th>\n",
       "      <td>5</td>\n",
       "      <td>0</td>\n",
       "      <td>factsguid societi #motiv</td>\n",
       "      <td>0.0000</td>\n",
       "    </tr>\n",
       "  </tbody>\n",
       "</table>\n",
       "</div>"
      ],
      "text/plain": [
       "   id  label                                        clean_tweet  \\\n",
       "0   1      0     father dysfunct selfish drag kid dysfunct #run   \n",
       "1   2      0  thank #lyft credit not use caus not offer whee...   \n",
       "2   3      0                                     bihday majesti   \n",
       "3   4      0                              #model love take time   \n",
       "4   5      0                           factsguid societi #motiv   \n",
       "\n",
       "   polarity_score  \n",
       "0         -0.6124  \n",
       "1          0.6249  \n",
       "2          0.0000  \n",
       "3          0.6369  \n",
       "4          0.0000  "
      ]
     },
     "execution_count": 11,
     "metadata": {},
     "output_type": "execute_result"
    }
   ],
   "source": [
    "df = train_upsampled.drop('tweet', axis=1);\n",
    "df.head()"
   ]
  },
  {
   "cell_type": "code",
   "execution_count": 12,
   "metadata": {},
   "outputs": [],
   "source": [
    "X = df.loc[:, ['clean_tweet', 'polarity_score']];\n",
    "y = df.loc[:, ['label']]"
   ]
  },
  {
   "cell_type": "code",
   "execution_count": 13,
   "metadata": {},
   "outputs": [
    {
     "name": "stdout",
     "output_type": "stream",
     "text": [
      "shape of train data  (29125, 2)\n",
      "shape of test data  (17832, 2)\n",
      "shape of cross validation data  (12483, 2)\n"
     ]
    }
   ],
   "source": [
    "from sklearn.model_selection import train_test_split\n",
    "#splitting project_data into train and test and CV data.\n",
    "X_1, X_test, y_1, y_test = train_test_split(X, y, test_size=0.3, random_state=1, stratify=y)\n",
    "X_train, X_cv, y_train, y_cv = train_test_split(X_1, y_1, test_size=0.3, random_state=1);\n",
    "\n",
    "print('shape of train data ', X_train.shape);\n",
    "print('shape of test data ', X_test.shape);\n",
    "print('shape of cross validation data ', X_cv.shape)"
   ]
  },
  {
   "cell_type": "markdown",
   "metadata": {},
   "source": [
    "**vectorizing clean_tweet using TfidfVectorizer**"
   ]
  },
  {
   "cell_type": "code",
   "execution_count": 14,
   "metadata": {},
   "outputs": [
    {
     "name": "stdout",
     "output_type": "stream",
     "text": [
      "shape of train tweet  (29125, 5000)\n",
      "shape of test tweet  (17832, 5000)\n",
      "shape of cv tweet  (12483, 5000)\n"
     ]
    }
   ],
   "source": [
    "from sklearn.feature_extraction.text import TfidfVectorizer;\n",
    "\n",
    "vectorizer = TfidfVectorizer(ngram_range=(1,2), max_df=0.8, max_features=5000);\n",
    "vectorizer.fit(X_train['clean_tweet']);\n",
    "\n",
    "train_tweet = vectorizer.transform(X_train['clean_tweet']);\n",
    "test_tweet = vectorizer.transform(X_test['clean_tweet']);\n",
    "cv_tweet = vectorizer.transform(X_cv['clean_tweet']);\n",
    "\n",
    "print('shape of train tweet ', train_tweet.shape);\n",
    "print('shape of test tweet ', test_tweet.shape);\n",
    "print('shape of cv tweet ', cv_tweet.shape)"
   ]
  },
  {
   "cell_type": "code",
   "execution_count": 15,
   "metadata": {},
   "outputs": [],
   "source": [
    "#merging data\n",
    "from scipy.sparse import hstack\n",
    "\n",
    "train = hstack((train_tweet, X_train['polarity_score'].values.reshape(-1,1))).tocsr();\n",
    "test = hstack((test_tweet, X_test['polarity_score'].values.reshape(-1,1))).tocsr();\n",
    "cv = hstack((cv_tweet, X_cv['polarity_score'].values.reshape(-1,1))).tocsr();"
   ]
  },
  {
   "cell_type": "code",
   "execution_count": 16,
   "metadata": {},
   "outputs": [],
   "source": [
    "# writing our own function for predict, with defined thresould\n",
    "# we will pick a threshold that will give the least fpr\n",
    "def predict(proba, threshold, fpr, tpr):\n",
    "    \n",
    "    t = threshold[np.argmax(tpr*(1-fpr))]\n",
    "    \n",
    "    # (tpr*(1-fpr)) will be maximum if your fpr is very low and tpr is very high\n",
    "    \n",
    "    print(\"the maximum value of tpr*(1-fpr)\", max(tpr*(1-fpr)), \"for threshold\", np.round(t,3))\n",
    "    predictions = []\n",
    "    for i in proba:\n",
    "        if i>=t:\n",
    "            predictions.append(1)\n",
    "        else:\n",
    "            predictions.append(0)\n",
    "    return predictions"
   ]
  },
  {
   "cell_type": "code",
   "execution_count": 29,
   "metadata": {},
   "outputs": [],
   "source": [
    "from sklearn.metrics import confusion_matrix\n",
    "import seaborn as sns\n",
    "#defining function to plot confusion matrix\n",
    "def plot_confusion_matrix(y, pred_y):\n",
    "    plt.figure(figsize=(20,4))\n",
    "    \n",
    "    cm = confusion_matrix(y, pred_y)\n",
    "\n",
    "    labels = np.array([\"{0}={1}\".format(text, auc) for auc, text in zip(cm.flatten(), ['TN', 'FP', 'FN', 'TP'])]).reshape(2,2);\n",
    "    plt.subplot(1, 3, 1);\n",
    "    sns.heatmap(cm, annot=labels, fmt=\"\");\n",
    "    plt.xlabel('Predicted Values');\n",
    "    plt.ylabel('Actual Values');\n",
    "    plt.title('Confusion Matrix');\n",
    "    \n",
    "    #plotting precision matrix\n",
    "    precission_matrix = (cm / cm.sum(axis=0));\n",
    "    plt.subplot(1, 3, 2);\n",
    "    sns.heatmap(precission_matrix, annot=True, fmt=\"\");\n",
    "    plt.xlabel('Predicted Values');\n",
    "    plt.ylabel('Actual Values');\n",
    "    plt.title('Precission Matrix');\n",
    "    \n",
    "    #plotting recall matrix\n",
    "    recall_matrix = (cm.T / cm.sum(axis=0));\n",
    "    plt.subplot(1, 3, 3);\n",
    "    sns.heatmap(recall_matrix, annot=True, fmt=\"\" );\n",
    "    plt.xlabel('Predicted Values');\n",
    "    plt.ylabel('Actual Values');\n",
    "    plt.title('Recall Matrix');\n",
    "    \n",
    "    Precision = precission_matrix[1][1];\n",
    "    Recall = recall_matrix[1][1];\n",
    "    \n",
    "    f1_score =  2*(Recall * Precision) / (Recall + Precision)\n",
    "    \n",
    "    print('f1 score: ', f1_score)"
   ]
  },
  {
   "cell_type": "code",
   "execution_count": 18,
   "metadata": {},
   "outputs": [
    {
     "data": {
      "image/png": "[encoded data removed]",
      "text/plain": [
       "<Figure size 432x288 with 1 Axes>"
      ]
     },
     "metadata": {
      "needs_background": "light"
     },
     "output_type": "display_data"
    }
   ],
   "source": [
    "from sklearn.linear_model import SGDClassifier;\n",
    "from sklearn.metrics import roc_auc_score;\n",
    "import matplotlib.pyplot as plt;\n",
    "#creating list for holding auc value for train, cv\n",
    "train_auc = [];\n",
    "cv_auc = [];\n",
    "\n",
    "#defining list of lambda's\n",
    "alpha = [0.00001, 0.0001, 0.001, 0.01, 0.1, 1, 10, 100, 1000, 10000];\n",
    "\n",
    "for a in alpha:\n",
    "    #using SGDClassifier, and passing log in loss, which makes it LogisticRegression\n",
    "    LR = SGDClassifier(loss='log', penalty='l2', alpha=a); #usig L2 Regularization\n",
    "    LR.fit(train, y_train['label'].values.ravel()); #training model using training data.\n",
    "    \n",
    "    y_train_pred = LR.predict_proba(train)[:, 1]; #predicting probability for training data\n",
    "    y_cv_pred = LR.predict_proba(cv)[:, 1]; #predicting probability for cv data\n",
    "    \n",
    "    train_auc.append(roc_auc_score(y_train, y_train_pred));\n",
    "    cv_auc.append(roc_auc_score(y_cv, y_cv_pred));\n",
    "    \n",
    "#plotting error plot\n",
    "plt.plot(np.log(alpha), train_auc, label='Train AUC');\n",
    "plt.plot(np.log(alpha), cv_auc, label='CV AUC');\n",
    "\n",
    "plt.scatter(np.log(alpha), train_auc, label='Train AUC points');\n",
    "plt.scatter(np.log(alpha), cv_auc, label='CV AUC points');\n",
    "    \n",
    "plt.xlabel('lambda: hyperparameter');\n",
    "plt.ylabel('AUC');\n",
    "plt.title('Error Plot');\n",
    "\n",
    "plt.xticks(np.log(alpha))\n",
    "\n",
    "plt.grid();\n",
    "plt.show()"
   ]
  },
  {
   "cell_type": "code",
   "execution_count": 19,
   "metadata": {},
   "outputs": [
    {
     "name": "stdout",
     "output_type": "stream",
     "text": [
      "0.0001\n"
     ]
    },
    {
     "data": {
      "image/png": "[encoded data removed]",
      "text/plain": [
       "<Figure size 432x288 with 1 Axes>"
      ]
     },
     "metadata": {
      "needs_background": "light"
     },
     "output_type": "display_data"
    }
   ],
   "source": [
    "\n",
    "from sklearn.metrics import roc_curve;\n",
    "\n",
    "optimal_alpha = 0.0001\n",
    "tfidf_lr_alpha = optimal_alpha;\n",
    "print(optimal_alpha)\n",
    "#training model using optimal_alpha\n",
    "LR = SGDClassifier(loss='log', penalty='l2', alpha=optimal_alpha);\n",
    "\n",
    "LR.fit(train, y_train.values.ravel());\n",
    "\n",
    "y_train_pred = LR.predict_proba(train)[:, 1];\n",
    "y_test_pred = LR.predict_proba(test)[:, 1];\n",
    "\n",
    "train_fpr, train_tpr, train_thresholds = roc_curve(y_train, y_train_pred);\n",
    "test_fpr, test_tpr, test_thresholds = roc_curve(y_test, y_test_pred);\n",
    "\n",
    "train_auc = roc_auc_score(y_train, y_train_pred);\n",
    "test_auc = roc_auc_score(y_test, y_test_pred);\n",
    "                            \n",
    "tfidf_lr_auc = test_auc;\n",
    "\n",
    "#plotting ROC curve\n",
    "plt.plot(train_fpr, train_tpr, label=\"train AUC: \"+str(train_auc))\n",
    "plt.plot(test_fpr, test_tpr, label=\"test AUC: \"+str(test_auc))\n",
    "\n",
    "\n",
    "plt.grid();\n",
    "plt.xlabel('FPR')\n",
    "plt.ylabel('TPR')\n",
    "plt.title('ROC curve')\n",
    "plt.legend();\n",
    "plt.show()"
   ]
  },
  {
   "cell_type": "code",
   "execution_count": 30,
   "metadata": {},
   "outputs": [
    {
     "name": "stdout",
     "output_type": "stream",
     "text": [
      "Train confusion matrix: \n",
      "the maximum value of tpr*(1-fpr) 0.8807928380758022 for threshold 0.542\n",
      "f1 score:  0.938871794871795\n"
     ]
    },
    {
     "data": {
      "image/png": "[encoded data removed]",
      "text/plain": [
       "<Figure size 1440x288 with 6 Axes>"
      ]
     },
     "metadata": {
      "needs_background": "light"
     },
     "output_type": "display_data"
    }
   ],
   "source": [
    "print('Train confusion matrix: ');\n",
    "train_pred = predict(y_train_pred, train_thresholds, train_fpr, train_tpr);\n",
    "plot_confusion_matrix(y_train, train_pred);"
   ]
  },
  {
   "cell_type": "code",
   "execution_count": 31,
   "metadata": {},
   "outputs": [
    {
     "name": "stdout",
     "output_type": "stream",
     "text": [
      "Test confusion matrix: \n",
      "the maximum value of tpr*(1-fpr) 0.8807928380758022 for threshold 0.542\n",
      "f1 score:  0.9257336343115125\n"
     ]
    },
    {
     "data": {
      "image/png": "[encoded data removed]",
      "text/plain": [
       "<Figure size 1440x288 with 6 Axes>"
      ]
     },
     "metadata": {
      "needs_background": "light"
     },
     "output_type": "display_data"
    }
   ],
   "source": [
    "print('Test confusion matrix: ');\n",
    "test_pred = predict(y_test_pred, train_thresholds, train_fpr, train_tpr);\n",
    "plot_confusion_matrix(y_test, test_pred);"
   ]
  }
 ],
 "metadata": {
  "kernelspec": {
   "display_name": "Python 3",
   "language": "python",
   "name": "python3"
  },
  "language_info": {
   "codemirror_mode": {
    "name": "ipython",
    "version": 3
   },
   "file_extension": ".py",
   "mimetype": "text/x-python",
   "name": "python",
   "nbconvert_exporter": "python",
   "pygments_lexer": "ipython3",
   "version": "3.6.5"
  }
 },
 "nbformat": 4,
 "nbformat_minor": 1
}
